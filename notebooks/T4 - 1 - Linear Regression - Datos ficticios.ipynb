{
 "cells": [
  {
   "cell_type": "markdown",
   "metadata": {},
   "source": [
    "# Modelos de Regresión Lineal \n",
    "\n",
    "## Modelo con datos simulados\n",
    "\n",
    "* y = a + b * x\n",
    "* X : 100 valores con distribución N(1.5, 2.5)\n",
    "* Ye = 3 + 1.5 * x + e \n",
    "* e estará distribuida de forma N(0,0.8)\n"
   ]
  },
  {
   "cell_type": "code",
   "execution_count": 1,
   "metadata": {},
   "outputs": [],
   "source": [
    "import pandas as pd\n",
    "import numpy as np\n",
    "import matplotlib.pyplot as plt"
   ]
  },
  {
   "cell_type": "code",
   "execution_count": 2,
   "metadata": {},
   "outputs": [],
   "source": [
    "x = 1.5 + 2.5 * np.random.rand(100)"
   ]
  },
  {
   "cell_type": "code",
   "execution_count": 3,
   "metadata": {},
   "outputs": [],
   "source": [
    "error = 0 + 0.4 * np.random.randn(100)"
   ]
  },
  {
   "cell_type": "code",
   "execution_count": 4,
   "metadata": {},
   "outputs": [],
   "source": [
    "y_esperada = 3 + 1.5 * x"
   ]
  },
  {
   "cell_type": "code",
   "execution_count": 5,
   "metadata": {},
   "outputs": [],
   "source": [
    "y_actual = 3 + 1.5 * x + error"
   ]
  },
  {
   "cell_type": "code",
   "execution_count": 6,
   "metadata": {},
   "outputs": [],
   "source": [
    "x_list = x.tolist()\n",
    "y_esp_list = y_esperada.tolist()\n",
    "y_actual_list = y_actual.tolist()"
   ]
  },
  {
   "cell_type": "code",
   "execution_count": 7,
   "metadata": {},
   "outputs": [],
   "source": [
    "data = pd.DataFrame(\n",
    "    {\n",
    "        \"x\": x_list, \n",
    "        \"y_actual\": y_actual_list, \n",
    "        \"y_esperada\": y_esp_list\n",
    "    }\n",
    "\n",
    ")"
   ]
  },
  {
   "cell_type": "code",
   "execution_count": 8,
   "metadata": {},
   "outputs": [
    {
     "data": {
      "text/html": [
       "<div>\n",
       "<style scoped>\n",
       "    .dataframe tbody tr th:only-of-type {\n",
       "        vertical-align: middle;\n",
       "    }\n",
       "\n",
       "    .dataframe tbody tr th {\n",
       "        vertical-align: top;\n",
       "    }\n",
       "\n",
       "    .dataframe thead th {\n",
       "        text-align: right;\n",
       "    }\n",
       "</style>\n",
       "<table border=\"1\" class=\"dataframe\">\n",
       "  <thead>\n",
       "    <tr style=\"text-align: right;\">\n",
       "      <th></th>\n",
       "      <th>x</th>\n",
       "      <th>y_actual</th>\n",
       "      <th>y_esperada</th>\n",
       "    </tr>\n",
       "  </thead>\n",
       "  <tbody>\n",
       "    <tr>\n",
       "      <th>0</th>\n",
       "      <td>2.738403</td>\n",
       "      <td>6.740911</td>\n",
       "      <td>7.107605</td>\n",
       "    </tr>\n",
       "    <tr>\n",
       "      <th>1</th>\n",
       "      <td>3.438680</td>\n",
       "      <td>8.138344</td>\n",
       "      <td>8.158020</td>\n",
       "    </tr>\n",
       "    <tr>\n",
       "      <th>2</th>\n",
       "      <td>1.677178</td>\n",
       "      <td>5.437324</td>\n",
       "      <td>5.515767</td>\n",
       "    </tr>\n",
       "    <tr>\n",
       "      <th>3</th>\n",
       "      <td>2.702101</td>\n",
       "      <td>7.265693</td>\n",
       "      <td>7.053152</td>\n",
       "    </tr>\n",
       "    <tr>\n",
       "      <th>4</th>\n",
       "      <td>3.934494</td>\n",
       "      <td>8.812567</td>\n",
       "      <td>8.901741</td>\n",
       "    </tr>\n",
       "  </tbody>\n",
       "</table>\n",
       "</div>"
      ],
      "text/plain": [
       "          x  y_actual  y_esperada\n",
       "0  2.738403  6.740911    7.107605\n",
       "1  3.438680  8.138344    8.158020\n",
       "2  1.677178  5.437324    5.515767\n",
       "3  2.702101  7.265693    7.053152\n",
       "4  3.934494  8.812567    8.901741"
      ]
     },
     "execution_count": 8,
     "metadata": {},
     "output_type": "execute_result"
    }
   ],
   "source": [
    "data.head()"
   ]
  },
  {
   "cell_type": "code",
   "execution_count": 9,
   "metadata": {},
   "outputs": [],
   "source": [
    "# podemos hallar la media también para dibujarla de la siguiente manera: \n",
    "y_mean = [np.mean(y_actual) for i in range(1, len(x_list)+1)]"
   ]
  },
  {
   "cell_type": "code",
   "execution_count": 36,
   "metadata": {
    "scrolled": true
   },
   "outputs": [
    {
     "data": {
      "text/plain": [
       "Text(0.5, 1.0, 'Valor actual versus esperado')"
      ]
     },
     "execution_count": 36,
     "metadata": {},
     "output_type": "execute_result"
    },
    {
     "data": {
      "image/png": "[encoded data removed]",
      "text/plain": [
       "<Figure size 432x288 with 1 Axes>"
      ]
     },
     "metadata": {
      "needs_background": "light"
     },
     "output_type": "display_data"
    }
   ],
   "source": [
    "%matplotlib inline\n",
    "plt.plot(data[\"x\"], data[\"y_esperada\"])\n",
    "plt.plot(data[\"x\"], data[\"y_actual\"], \"ro\")\n",
    "plt.plot(data[\"x\"], y_mean, \"g\")\n",
    "plt.title(\"Valor actual versus esperado\")"
   ]
  },
  {
   "cell_type": "markdown",
   "metadata": {},
   "source": [
    "## ¿Cómo es la predicción de buena?\n",
    "\n",
    "* SST = SSD + SSR\n",
    "* SST : Variabilidad de los datos con respecto a su media\n",
    "* SSD : Diferencia entre los datos originales y las predicciones que el modelo no es capaz de explicar (errores que deberían seguir una distribución normal)\n",
    "* SSR : Diferencia entre la regresión y el valor medio que el modelo busca explicar. \n",
    "\n",
    "* R²= SSR / SST : Coeficiente de determinación, entre 0 y 1. Entre más cerca al 1, mejor! "
   ]
  },
  {
   "cell_type": "code",
   "execution_count": 11,
   "metadata": {},
   "outputs": [],
   "source": [
    "# vamos a realizar los calculos de SSR, SST, y SSD que son las sumas de los cuadrados para validar el error:\n",
    "data[\"SSR\"] = (data[\"y_esperada\"]-np.mean(y_actual))**2\n",
    "data[\"SSD\"] = (data[\"y_esperada\"] - data[\"y_actual\"])**2\n",
    "data[\"SST\"] = (data[\"y_actual\"]-np.mean(y_actual))**2"
   ]
  },
  {
   "cell_type": "code",
   "execution_count": 12,
   "metadata": {},
   "outputs": [
    {
     "data": {
      "text/html": [
       "<div>\n",
       "<style scoped>\n",
       "    .dataframe tbody tr th:only-of-type {\n",
       "        vertical-align: middle;\n",
       "    }\n",
       "\n",
       "    .dataframe tbody tr th {\n",
       "        vertical-align: top;\n",
       "    }\n",
       "\n",
       "    .dataframe thead th {\n",
       "        text-align: right;\n",
       "    }\n",
       "</style>\n",
       "<table border=\"1\" class=\"dataframe\">\n",
       "  <thead>\n",
       "    <tr style=\"text-align: right;\">\n",
       "      <th></th>\n",
       "      <th>x</th>\n",
       "      <th>y_actual</th>\n",
       "      <th>y_esperada</th>\n",
       "      <th>SSR</th>\n",
       "      <th>SSD</th>\n",
       "      <th>SST</th>\n",
       "    </tr>\n",
       "  </thead>\n",
       "  <tbody>\n",
       "    <tr>\n",
       "      <th>0</th>\n",
       "      <td>2.738403</td>\n",
       "      <td>6.740911</td>\n",
       "      <td>7.107605</td>\n",
       "      <td>0.003080</td>\n",
       "      <td>0.134464</td>\n",
       "      <td>0.178247</td>\n",
       "    </tr>\n",
       "    <tr>\n",
       "      <th>1</th>\n",
       "      <td>3.438680</td>\n",
       "      <td>8.138344</td>\n",
       "      <td>8.158020</td>\n",
       "      <td>0.989858</td>\n",
       "      <td>0.000387</td>\n",
       "      <td>0.951092</td>\n",
       "    </tr>\n",
       "    <tr>\n",
       "      <th>2</th>\n",
       "      <td>1.677178</td>\n",
       "      <td>5.437324</td>\n",
       "      <td>5.515767</td>\n",
       "      <td>2.713720</td>\n",
       "      <td>0.006153</td>\n",
       "      <td>2.978319</td>\n",
       "    </tr>\n",
       "    <tr>\n",
       "      <th>3</th>\n",
       "      <td>2.702101</td>\n",
       "      <td>7.265693</td>\n",
       "      <td>7.053152</td>\n",
       "      <td>0.012090</td>\n",
       "      <td>0.045174</td>\n",
       "      <td>0.010524</td>\n",
       "    </tr>\n",
       "    <tr>\n",
       "      <th>4</th>\n",
       "      <td>3.934494</td>\n",
       "      <td>8.812567</td>\n",
       "      <td>8.901741</td>\n",
       "      <td>3.022859</td>\n",
       "      <td>0.007952</td>\n",
       "      <td>2.720726</td>\n",
       "    </tr>\n",
       "  </tbody>\n",
       "</table>\n",
       "</div>"
      ],
      "text/plain": [
       "          x  y_actual  y_esperada       SSR       SSD       SST\n",
       "0  2.738403  6.740911    7.107605  0.003080  0.134464  0.178247\n",
       "1  3.438680  8.138344    8.158020  0.989858  0.000387  0.951092\n",
       "2  1.677178  5.437324    5.515767  2.713720  0.006153  2.978319\n",
       "3  2.702101  7.265693    7.053152  0.012090  0.045174  0.010524\n",
       "4  3.934494  8.812567    8.901741  3.022859  0.007952  2.720726"
      ]
     },
     "execution_count": 12,
     "metadata": {},
     "output_type": "execute_result"
    }
   ],
   "source": [
    "data.head()"
   ]
  },
  {
   "cell_type": "code",
   "execution_count": 13,
   "metadata": {},
   "outputs": [],
   "source": [
    "SSR = sum(data[\"SSR\"])\n",
    "SSD = sum(data[\"SSD\"])\n",
    "SST = sum(data[\"SST\"])"
   ]
  },
  {
   "cell_type": "code",
   "execution_count": 14,
   "metadata": {},
   "outputs": [
    {
     "data": {
      "text/plain": [
       "131.0683053291996"
      ]
     },
     "execution_count": 14,
     "metadata": {},
     "output_type": "execute_result"
    }
   ],
   "source": [
    "SSR"
   ]
  },
  {
   "cell_type": "code",
   "execution_count": 15,
   "metadata": {},
   "outputs": [
    {
     "data": {
      "text/plain": [
       "17.574841789578556"
      ]
     },
     "execution_count": 15,
     "metadata": {},
     "output_type": "execute_result"
    }
   ],
   "source": [
    "SSD"
   ]
  },
  {
   "cell_type": "code",
   "execution_count": 16,
   "metadata": {},
   "outputs": [
    {
     "data": {
      "text/plain": [
       "156.9231418651692"
      ]
     },
     "execution_count": 16,
     "metadata": {},
     "output_type": "execute_result"
    }
   ],
   "source": [
    "SST"
   ]
  },
  {
   "cell_type": "code",
   "execution_count": 17,
   "metadata": {},
   "outputs": [
    {
     "data": {
      "text/plain": [
       "0.8352388549664365"
      ]
     },
     "execution_count": 17,
     "metadata": {},
     "output_type": "execute_result"
    }
   ],
   "source": [
    "## Hacemos uno de los criterios de validación del modelo que es R2. \n",
    "R2 = SSR/SST\n",
    "R2"
   ]
  },
  {
   "cell_type": "code",
   "execution_count": 18,
   "metadata": {},
   "outputs": [
    {
     "data": {
      "text/plain": [
       "(array([ 3.,  8., 12., 22., 24., 15.,  9.,  4.,  1.,  2.]),\n",
       " array([-0.94938365, -0.7223758 , -0.49536796, -0.26836011, -0.04135227,\n",
       "         0.18565558,  0.41266343,  0.63967127,  0.86667912,  1.09368696,\n",
       "         1.32069481]),\n",
       " <a list of 10 Patch objects>)"
      ]
     },
     "execution_count": 18,
     "metadata": {},
     "output_type": "execute_result"
    },
    {
     "data": {
      "image/png": "[encoded data removed]",
      "text/plain": [
       "<Figure size 432x288 with 1 Axes>"
      ]
     },
     "metadata": {
      "needs_background": "light"
     },
     "output_type": "display_data"
    }
   ],
   "source": [
    "plt.hist((data[\"y_esperada\"] - data[\"y_actual\"]))"
   ]
  },
  {
   "cell_type": "markdown",
   "metadata": {},
   "source": [
    "## Obteniendo la recta de la regresión\n",
    "\n",
    "* y = a + b * x_m\n",
    "* b = sum((xi-x_m)*(yi-y_m)/(xi-x_m)²)\n",
    "* a = y_m - b * x_m"
   ]
  },
  {
   "cell_type": "code",
   "execution_count": 20,
   "metadata": {},
   "outputs": [
    {
     "data": {
      "text/plain": [
       "(2.7918005428583554, 7.163104342100078)"
      ]
     },
     "execution_count": 20,
     "metadata": {},
     "output_type": "execute_result"
    }
   ],
   "source": [
    "x_mean = np.mean(data[\"x\"])\n",
    "y_mean = np.mean(data[\"y_actual\"])\n",
    "x_mean, y_mean"
   ]
  },
  {
   "cell_type": "code",
   "execution_count": 25,
   "metadata": {},
   "outputs": [],
   "source": [
    "data[\"beta_num\"] = (data[\"x\"]-x_mean)*(data[\"y_actual\"]-y_mean)\n",
    "data[\"beta_den\"] = (data[\"x\"]-x_mean)**2"
   ]
  },
  {
   "cell_type": "code",
   "execution_count": 26,
   "metadata": {},
   "outputs": [],
   "source": [
    "beta =  sum(data[\"beta_num\"])/sum(data[\"beta_den\"])\n",
    "alpha = y_mean - beta * x_mean"
   ]
  },
  {
   "cell_type": "code",
   "execution_count": 27,
   "metadata": {},
   "outputs": [
    {
     "data": {
      "text/plain": [
       "(2.8411335095712067, 1.5480944165530774)"
      ]
     },
     "execution_count": 27,
     "metadata": {},
     "output_type": "execute_result"
    }
   ],
   "source": [
    "alpha, beta"
   ]
  },
  {
   "cell_type": "markdown",
   "metadata": {},
   "source": [
    "El modelo lineal obtenido por regresión es: \n",
    "    \n",
    "\n",
    "<b>Y = 2.8411335095712067 + 1.5480944165530774 * X </b>"
   ]
  },
  {
   "cell_type": "code",
   "execution_count": 28,
   "metadata": {},
   "outputs": [],
   "source": [
    "data[\"y_model\"] = alpha + beta*data[\"x\"]"
   ]
  },
  {
   "cell_type": "code",
   "execution_count": 29,
   "metadata": {},
   "outputs": [
    {
     "data": {
      "text/html": [
       "<div>\n",
       "<style scoped>\n",
       "    .dataframe tbody tr th:only-of-type {\n",
       "        vertical-align: middle;\n",
       "    }\n",
       "\n",
       "    .dataframe tbody tr th {\n",
       "        vertical-align: top;\n",
       "    }\n",
       "\n",
       "    .dataframe thead th {\n",
       "        text-align: right;\n",
       "    }\n",
       "</style>\n",
       "<table border=\"1\" class=\"dataframe\">\n",
       "  <thead>\n",
       "    <tr style=\"text-align: right;\">\n",
       "      <th></th>\n",
       "      <th>x</th>\n",
       "      <th>y_actual</th>\n",
       "      <th>y_esperada</th>\n",
       "      <th>SSR</th>\n",
       "      <th>SSD</th>\n",
       "      <th>SST</th>\n",
       "      <th>beta_num</th>\n",
       "      <th>beta_den</th>\n",
       "      <th>y_model</th>\n",
       "    </tr>\n",
       "  </thead>\n",
       "  <tbody>\n",
       "    <tr>\n",
       "      <th>0</th>\n",
       "      <td>2.738403</td>\n",
       "      <td>6.740911</td>\n",
       "      <td>7.107605</td>\n",
       "      <td>0.003080</td>\n",
       "      <td>0.134464</td>\n",
       "      <td>0.178247</td>\n",
       "      <td>0.022544</td>\n",
       "      <td>0.002851</td>\n",
       "      <td>7.080440</td>\n",
       "    </tr>\n",
       "    <tr>\n",
       "      <th>1</th>\n",
       "      <td>3.438680</td>\n",
       "      <td>8.138344</td>\n",
       "      <td>8.158020</td>\n",
       "      <td>0.989858</td>\n",
       "      <td>0.000387</td>\n",
       "      <td>0.951092</td>\n",
       "      <td>0.630863</td>\n",
       "      <td>0.418453</td>\n",
       "      <td>8.164535</td>\n",
       "    </tr>\n",
       "    <tr>\n",
       "      <th>2</th>\n",
       "      <td>1.677178</td>\n",
       "      <td>5.437324</td>\n",
       "      <td>5.515767</td>\n",
       "      <td>2.713720</td>\n",
       "      <td>0.006153</td>\n",
       "      <td>2.978319</td>\n",
       "      <td>1.923594</td>\n",
       "      <td>1.242383</td>\n",
       "      <td>5.437563</td>\n",
       "    </tr>\n",
       "    <tr>\n",
       "      <th>3</th>\n",
       "      <td>2.702101</td>\n",
       "      <td>7.265693</td>\n",
       "      <td>7.053152</td>\n",
       "      <td>0.012090</td>\n",
       "      <td>0.045174</td>\n",
       "      <td>0.010524</td>\n",
       "      <td>-0.009202</td>\n",
       "      <td>0.008046</td>\n",
       "      <td>7.024241</td>\n",
       "    </tr>\n",
       "    <tr>\n",
       "      <th>4</th>\n",
       "      <td>3.934494</td>\n",
       "      <td>8.812567</td>\n",
       "      <td>8.901741</td>\n",
       "      <td>3.022859</td>\n",
       "      <td>0.007952</td>\n",
       "      <td>2.720726</td>\n",
       "      <td>1.884830</td>\n",
       "      <td>1.305749</td>\n",
       "      <td>8.932102</td>\n",
       "    </tr>\n",
       "  </tbody>\n",
       "</table>\n",
       "</div>"
      ],
      "text/plain": [
       "          x  y_actual  y_esperada       SSR       SSD       SST  beta_num  \\\n",
       "0  2.738403  6.740911    7.107605  0.003080  0.134464  0.178247  0.022544   \n",
       "1  3.438680  8.138344    8.158020  0.989858  0.000387  0.951092  0.630863   \n",
       "2  1.677178  5.437324    5.515767  2.713720  0.006153  2.978319  1.923594   \n",
       "3  2.702101  7.265693    7.053152  0.012090  0.045174  0.010524 -0.009202   \n",
       "4  3.934494  8.812567    8.901741  3.022859  0.007952  2.720726  1.884830   \n",
       "\n",
       "   beta_den   y_model  \n",
       "0  0.002851  7.080440  \n",
       "1  0.418453  8.164535  \n",
       "2  1.242383  5.437563  \n",
       "3  0.008046  7.024241  \n",
       "4  1.305749  8.932102  "
      ]
     },
     "execution_count": 29,
     "metadata": {},
     "output_type": "execute_result"
    }
   ],
   "source": [
    "data.head()"
   ]
  },
  {
   "cell_type": "code",
   "execution_count": 31,
   "metadata": {},
   "outputs": [],
   "source": [
    "# vamos a realizar los calculos de SSR, SST, y SSD que son las sumas de los cuadrados para validar el error:SSR_mode =  (data[\"y_esperada\"]-np.mean(y_actual))**2\n",
    "SSR_m = sum((data[\"y_model\"]-y_mean)**2)\n",
    "SSD_m = sum((data[\"y_model\"] - data[\"y_actual\"])**2)\n",
    "SST_m = sum((data[\"y_actual\"]-np.mean(y_actual))**2)"
   ]
  },
  {
   "cell_type": "code",
   "execution_count": 32,
   "metadata": {},
   "outputs": [
    {
     "data": {
      "text/plain": [
       "(139.5434789901309, 17.37966287503834, 156.9231418651692)"
      ]
     },
     "execution_count": 32,
     "metadata": {},
     "output_type": "execute_result"
    }
   ],
   "source": [
    "SSR_m, SSD_m, SST_m"
   ]
  },
  {
   "cell_type": "code",
   "execution_count": 33,
   "metadata": {},
   "outputs": [
    {
     "data": {
      "text/plain": [
       "0.8892472922191986"
      ]
     },
     "execution_count": 33,
     "metadata": {},
     "output_type": "execute_result"
    }
   ],
   "source": [
    "## Hacemos uno de los criterios de validación del modelo que es R2. \n",
    "R2 = SSR_m/SST_m\n",
    "R2"
   ]
  },
  {
   "cell_type": "code",
   "execution_count": 38,
   "metadata": {},
   "outputs": [
    {
     "data": {
      "text/plain": [
       "Text(0.5, 1.0, 'Valor actual versus esperado')"
      ]
     },
     "execution_count": 38,
     "metadata": {},
     "output_type": "execute_result"
    },
    {
     "data": {
      "image/png": "[encoded data removed]",
      "text/plain": [
       "<Figure size 432x288 with 1 Axes>"
      ]
     },
     "metadata": {
      "needs_background": "light"
     },
     "output_type": "display_data"
    }
   ],
   "source": [
    "y_mean = [np.mean(y_actual) for i in range(1, len(x_list)+1)]\n",
    "%matplotlib inline\n",
    "plt.plot(data[\"x\"], data[\"y_esperada\"])\n",
    "plt.plot(data[\"x\"], data[\"y_actual\"], \"ro\")\n",
    "plt.plot(data[\"x\"], y_mean, \"g\")\n",
    "plt.plot(data[\"x\"], data[\"y_model\"], \"y\")\n",
    "plt.title(\"Valor actual versus esperado\")"
   ]
  },
  {
   "cell_type": "markdown",
   "metadata": {},
   "source": [
    "## Error estándar de los residuos (RSE) \n",
    "\n",
    "Entre menor sea este valor, mucho mejor es el modelo.\n",
    "\n",
    "* Se compara este valor con el promedio de los valores actuales, es la mejor forma. \n",
    "    * si decidimos hacerlo así, para calcular el error en porcentaje se dividie RSE/promedio_modelo"
   ]
  },
  {
   "cell_type": "code",
   "execution_count": 41,
   "metadata": {},
   "outputs": [
    {
     "data": {
      "text/plain": [
       "0.4211217148579268"
      ]
     },
     "execution_count": 41,
     "metadata": {},
     "output_type": "execute_result"
    }
   ],
   "source": [
    "RSE = np.sqrt((SSD_m)/(len(data)-2))\n",
    "RSE"
   ]
  },
  {
   "cell_type": "code",
   "execution_count": 43,
   "metadata": {},
   "outputs": [],
   "source": [
    "media_modelo = np.mean(data[\"y_actual\"])"
   ]
  },
  {
   "cell_type": "code",
   "execution_count": 45,
   "metadata": {},
   "outputs": [
    {
     "data": {
      "text/plain": [
       "0.05879039236980631"
      ]
     },
     "execution_count": 45,
     "metadata": {},
     "output_type": "execute_result"
    }
   ],
   "source": [
    "RSE/media_modelo   # lo que da un 5,87 % de error "
   ]
  },
  {
   "cell_type": "code",
   "execution_count": null,
   "metadata": {},
   "outputs": [],
   "source": []
  }
 ],
 "metadata": {
  "kernelspec": {
   "display_name": "Python 3",
   "language": "python",
   "name": "python3"
  },
  "language_info": {
   "codemirror_mode": {
    "name": "ipython",
    "version": 3
   },
   "file_extension": ".py",
   "mimetype": "text/x-python",
   "name": "python",
   "nbconvert_exporter": "python",
   "pygments_lexer": "ipython3",
   "version": "3.7.1"
  }
 },
 "nbformat": 4,
 "nbformat_minor": 2
}
